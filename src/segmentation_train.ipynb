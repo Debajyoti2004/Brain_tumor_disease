{
 "cells": [
  {
   "cell_type": "code",
   "execution_count": 1,
   "metadata": {},
   "outputs": [
    {
     "name": "stdout",
     "output_type": "stream",
     "text": [
      "Train data: 90\n",
      "Test data: 6\n",
      "shape of image and mask: torch.Size([4, 3, 96, 128]) torch.Size([4, 1, 96, 128])\n",
      "Train data: 90\n",
      "Test data: 6\n",
      "shape of image and mask: torch.Size([4, 3, 96, 128]) torch.Size([4, 1, 96, 128])\n"
     ]
    }
   ],
   "source": [
    "from dataloader import train_loader,test_loader\n",
    "\n",
    "print(\"Train data:\", len(train_loader))\n",
    "print(\"Test data:\", len(test_loader))\n",
    "print(\"shape of image and mask:\", next(iter(train_loader))[0].shape, next(iter(train_loader))[1].shape)"
   ]
  },
  {
   "cell_type": "code",
   "execution_count": 2,
   "metadata": {},
   "outputs": [
    {
     "name": "stdout",
     "output_type": "stream",
     "text": [
      "Epoch 1/10: Loss = -0.0384, Accuracy = 0.9825\n",
      "Epoch 2/10: Loss = -0.0792, Accuracy = 0.9825\n",
      "Epoch 3/10: Loss = -0.0801, Accuracy = 0.9825\n",
      "Epoch 4/10: Loss = -0.0801, Accuracy = 0.9825\n",
      "Epoch 5/10: Loss = -0.0801, Accuracy = 0.9825\n",
      "Epoch 6/10: Loss = -0.0809, Accuracy = 0.9825\n",
      "Epoch 7/10: Loss = -0.0815, Accuracy = 0.9825\n",
      "Epoch 8/10: Loss = -0.0843, Accuracy = 0.9825\n",
      "Epoch 9/10: Loss = -0.0821, Accuracy = 0.9825\n",
      "Epoch 10/10: Loss = -0.0787, Accuracy = 0.9825\n",
      "Model saved to C:\\Users\\Debajyoti\\OneDrive\\Desktop\\Brain tumor disease\\src\\models\\segmentation_weight.h5\n"
     ]
    },
    {
     "data": {
      "text/plain": [
       "{'loss': [-0.038365153554413056,\n",
       "  -0.07921834014770057,\n",
       "  -0.080068368707887,\n",
       "  -0.08006836844918629,\n",
       "  -0.08006836667449937,\n",
       "  -0.08085089051164687,\n",
       "  -0.0814751771175199,\n",
       "  -0.08427722946637206,\n",
       "  -0.08212753121948077,\n",
       "  -0.0787390352330274],\n",
       " 'accuracy': [0.9824948208450047,\n",
       "  0.9824948208450047,\n",
       "  0.9824948208450047,\n",
       "  0.9824948208450047,\n",
       "  0.9824948208450047,\n",
       "  0.9824948208450047,\n",
       "  0.9824948208450047,\n",
       "  0.9824948208450047,\n",
       "  0.9824948208450047,\n",
       "  0.9824948208450047]}"
      ]
     },
     "execution_count": 2,
     "metadata": {},
     "output_type": "execute_result"
    }
   ],
   "source": [
    "import sys\n",
    "sys.path.append(r'C:\\Users\\Debajyoti\\OneDrive\\Desktop\\Brain tumor disease\\src')\n",
    "from training import train\n",
    "\n",
    "from models.U_net import U_Net_Model\n",
    "\n",
    "model = U_Net_Model(in_channels=3, out_channels=1, dropouts=0.1)\n",
    "save_path = r\"C:\\Users\\Debajyoti\\OneDrive\\Desktop\\Brain tumor disease\\src\\models\\segmentation_weight.h5\"\n",
    "train(model,train_loader,10,save_path)\n"
   ]
  },
  {
   "cell_type": "code",
   "execution_count": 5,
   "metadata": {},
   "outputs": [
    {
     "name": "stdout",
     "output_type": "stream",
     "text": [
      "[[0 0 0 ... 0 0 0]\n",
      " [0 0 0 ... 0 0 0]\n",
      " [0 0 0 ... 0 0 0]\n",
      " ...\n",
      " [0 0 0 ... 0 0 0]\n",
      " [0 0 0 ... 0 0 0]\n",
      " [0 0 0 ... 0 0 0]]\n",
      "464\n"
     ]
    }
   ],
   "source": [
    "import numpy as np\n",
    "from PIL import Image\n",
    "\n",
    "mask_file_path = r\"C:\\Users\\Debajyoti\\OneDrive\\Desktop\\Brain tumor disease\\Dataset\\Train folder\\masks\\gg-1-_jpg.rf.14ec1b789c991a8fa4a13cfe7754e655.jpg\"\n",
    "mask = Image.open(mask_file_path)\n",
    "\n",
    "# Convert the PIL Image to a NumPy array\n",
    "mask_array = np.array(mask)\n",
    "print(mask_array)\n",
    "no_of_ones = (mask_array == 1).sum()\n",
    "print(no_of_ones)\n"
   ]
  },
  {
   "cell_type": "code",
   "execution_count": null,
   "metadata": {},
   "outputs": [],
   "source": []
  }
 ],
 "metadata": {
  "kernelspec": {
   "display_name": "Python 3",
   "language": "python",
   "name": "python3"
  },
  "language_info": {
   "codemirror_mode": {
    "name": "ipython",
    "version": 3
   },
   "file_extension": ".py",
   "mimetype": "text/x-python",
   "name": "python",
   "nbconvert_exporter": "python",
   "pygments_lexer": "ipython3",
   "version": "3.12.3"
  }
 },
 "nbformat": 4,
 "nbformat_minor": 2
}
